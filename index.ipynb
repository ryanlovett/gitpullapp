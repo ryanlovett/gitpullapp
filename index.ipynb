{
 "cells": [
  {
   "cell_type": "markdown",
   "metadata": {},
   "source": [
    "# Instructions\n",
    "\n",
    "Run all cells, then alter the parameters in the form below. Click the generated link to test your URL.\n",
    "\n",
    "\n",
    "__Example 1: open a notebook__\n",
    "\n",
    "subpath = materials/su18/lab/lab01/lab01.ipynb\n",
    "\n",
    "__Example 2: open RStudio__\n",
    "urlpath = rstudio"
   ]
  },
  {
   "cell_type": "code",
   "execution_count": 1,
   "metadata": {},
   "outputs": [],
   "source": [
    "from ipywidgets import interactive\n",
    "from IPython.display import display"
   ]
  },
  {
   "cell_type": "code",
   "execution_count": 2,
   "metadata": {},
   "outputs": [],
   "source": [
    "def f(huburl, repo, branch='master', subpath='', app='', urlpath=''):\n",
    "    url = \"{}/hub/user-redirect/git-pull?repo={}&branch={}\".format(huburl, repo, branch)\n",
    "    if urlpath != '':\n",
    "        url += \"&urlpath={}\".format(urlpath)\n",
    "    else:\n",
    "        if subpath != '':\n",
    "            url += '&subpath={}'.format(subpath)\n",
    "        if app != '':\n",
    "            url += '&app={}'.format(app)\n",
    "    print(url)"
   ]
  },
  {
   "cell_type": "code",
   "execution_count": 3,
   "metadata": {},
   "outputs": [],
   "source": [
    "w = interactive(f, huburl='http://datahub.berkeley.edu', repo='https://github.com/data-8/materials-su18')"
   ]
  },
  {
   "cell_type": "code",
   "execution_count": 4,
   "metadata": {},
   "outputs": [
    {
     "data": {
      "application/vnd.jupyter.widget-view+json": {
       "model_id": "0164a7be1ae9412aa7924988a1f2d354",
       "version_major": 2,
       "version_minor": 0
      },
      "text/plain": [
       "interactive(children=(Text(value='http://datahub.berkeley.edu', description='huburl'), Text(value='https://git…"
      ]
     },
     "metadata": {},
     "output_type": "display_data"
    }
   ],
   "source": [
    "display(w)"
   ]
  },
  {
   "cell_type": "code",
   "execution_count": null,
   "metadata": {},
   "outputs": [],
   "source": []
  }
 ],
 "metadata": {
  "kernelspec": {
   "display_name": "Python 3",
   "language": "python",
   "name": "python3"
  },
  "language_info": {
   "codemirror_mode": {
    "name": "ipython",
    "version": 3
   },
   "file_extension": ".py",
   "mimetype": "text/x-python",
   "name": "python",
   "nbconvert_exporter": "python",
   "pygments_lexer": "ipython3",
   "version": "3.6.5"
  }
 },
 "nbformat": 4,
 "nbformat_minor": 2
}
