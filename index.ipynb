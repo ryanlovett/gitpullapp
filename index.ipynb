{
 "cells": [
  {
   "cell_type": "markdown",
   "metadata": {},
   "source": [
    "# Distribute materials from a Git repo to your students\n",
    "\n",
    "This application lets you create a link that users can click to pull down materials from a Git repository into their JupyterHub home directories. You can point to a specific notebook or directory that should be opened. RStudio / Ju"
   ]
  },
  {
   "cell_type": "code",
   "execution_count": null,
   "metadata": {},
   "outputs": [],
   "source": [
    "from ipywidgets import interactive\n",
    "from IPython.display import display"
   ]
  },
  {
   "cell_type": "code",
   "execution_count": null,
   "metadata": {},
   "outputs": [],
   "source": [
    "def f(huburl, repo, branch='master', notebook='', app=['notebook', 'jupyterlab']):\n",
    "    url = \"{}/hub/user-redirect/git-pull?repo={}&branch={}\".format(huburl, repo, branch)\n",
    "    if notebook:\n",
    "        url += '&subpath={}'.format(notebook)\n",
    "\n",
    "    if app == 'jupyterlab':\n",
    "        url += '&app=jupyterlab'\n",
    "    print(url)"
   ]
  },
  {
   "cell_type": "code",
   "execution_count": null,
   "metadata": {},
   "outputs": [],
   "source": [
    "w = interactive(f, huburl='http://datahub.berkeley.edu', repo='https://github.com/data-8/materials-su18')"
   ]
  },
  {
   "cell_type": "markdown",
   "metadata": {},
   "source": [
    "**URL Parameters**"
   ]
  },
  {
   "cell_type": "code",
   "execution_count": null,
   "metadata": {},
   "outputs": [],
   "source": [
    "display(w)"
   ]
  }
 ],
 "metadata": {
  "kernelspec": {
   "display_name": "Python 3",
   "language": "python",
   "name": "python3"
  },
  "language_info": {
   "codemirror_mode": {
    "name": "ipython",
    "version": 3
   },
   "file_extension": ".py",
   "mimetype": "text/x-python",
   "name": "python",
   "nbconvert_exporter": "python",
   "pygments_lexer": "ipython3",
   "version": "3.6.3"
  }
 },
 "nbformat": 4,
 "nbformat_minor": 2
}
